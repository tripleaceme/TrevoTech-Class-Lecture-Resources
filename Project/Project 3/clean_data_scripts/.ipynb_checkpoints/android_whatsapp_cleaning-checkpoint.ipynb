{
 "cells": [
  {
   "cell_type": "code",
   "execution_count": 1,
   "metadata": {
    "scrolled": true
   },
   "outputs": [],
   "source": [
    "import pandas as pd\n",
    "import numpy as np\n",
    "from datetime import datetime\n",
    "import re\n",
    "import dateparser\n",
    "from collections import Counter\n",
    "import warnings\n",
    "warnings.filterwarnings('ignore')"
   ]
  },
  {
   "cell_type": "markdown",
   "metadata": {},
   "source": [
    "Next we need to load our Chat.txt into Python and read it. We will do this using the function below:"
   ]
  },
  {
   "cell_type": "code",
   "execution_count": 2,
   "metadata": {},
   "outputs": [],
   "source": [
    "def read_file(file):\n",
    "    '''Reads Whatsapp text file into a list of strings''' \n",
    "    x = open(file,'r', encoding = 'utf-8') #Opens the text file into variable x but the variable cannot be explored yet\n",
    "    y = x.read() #By now it becomes a huge chunk of string that we need to separate line by line\n",
    "    content = y.splitlines() #The splitline method converts the chunk of string into a list of strings\n",
    "    return content"
   ]
  },
  {
   "cell_type": "code",
   "execution_count": 23,
   "metadata": {},
   "outputs": [
    {
     "data": {
      "text/plain": [
       "113"
      ]
     },
     "execution_count": 23,
     "metadata": {},
     "output_type": "execute_result"
    }
   ],
   "source": [
    "chat = read_file('HND2-NYSC OFFICIAL GROUP.txt')\n",
    "len(chat)"
   ]
  },
  {
   "cell_type": "code",
   "execution_count": 24,
   "metadata": {},
   "outputs": [
    {
     "data": {
      "text/plain": [
       "23"
      ]
     },
     "execution_count": 24,
     "metadata": {},
     "output_type": "execute_result"
    }
   ],
   "source": [
    "join = [line for line in chat if  \"joined using this\" in line]\n",
    "len(join)"
   ]
  },
  {
   "cell_type": "code",
   "execution_count": 25,
   "metadata": {},
   "outputs": [
    {
     "name": "stdout",
     "output_type": "stream",
     "text": [
      "length of chat is:\n",
      "113\n",
      "length of clean_chat is:\n",
      "65\n"
     ]
    }
   ],
   "source": [
    "#Remove new lines\n",
    "chat = [line.strip() for line in chat]\n",
    "print(\"length of chat is:\")\n",
    "print(len(chat))\n",
    "#Clean out the join notification lines\n",
    "clean_chat = [line for line in chat if not \"joined using this\" in line]\n",
    "#Further cleaning\n",
    "#Remove empty lines\n",
    "clean_chat = [line for line in clean_chat if len(line) > 1]\n",
    "print(\"length of clean_chat is:\")\n",
    "print(len(clean_chat))"
   ]
  },
  {
   "cell_type": "code",
   "execution_count": 26,
   "metadata": {},
   "outputs": [
    {
     "data": {
      "text/plain": [
       "1"
      ]
     },
     "execution_count": 26,
     "metadata": {},
     "output_type": "execute_result"
    }
   ],
   "source": [
    "#Drop 'left-ers'\n",
    "left = [line for line in clean_chat if line.endswith(\"left\")]\n",
    "len(left)"
   ]
  },
  {
   "cell_type": "code",
   "execution_count": 27,
   "metadata": {},
   "outputs": [
    {
     "name": "stdout",
     "output_type": "stream",
     "text": [
      "64\n"
     ]
    }
   ],
   "source": [
    "#Clean out the left notification lines\n",
    "clean_chat = [line for line in clean_chat if not line.endswith(\"left\")]\n",
    "print(len(clean_chat))"
   ]
  },
  {
   "cell_type": "code",
   "execution_count": 28,
   "metadata": {},
   "outputs": [
    {
     "data": {
      "text/plain": [
       "31"
      ]
     },
     "execution_count": 28,
     "metadata": {},
     "output_type": "execute_result"
    }
   ],
   "source": [
    "#Merge messages that belong together\n",
    "msgs = [] #message container\n",
    "pos = 0 #counter for position of msgs in the container\n",
    "\"\"\"\n",
    "Flow:\n",
    "For every line, see if it matches the expression which is starting with the format \"number(s)+slash\" eg \"12/\"\n",
    "If it does, it is a new line of conversion as they begin with dates, add it to msgs container\n",
    "Else, it is a continuation of the previous line, add it to the previous line and append to msgs, then pop previous line.\n",
    "\"\"\"\n",
    "for line in clean_chat:\n",
    "    if re.findall(\"\\A\\d+[/]\", line):\n",
    "        msgs.append(line)\n",
    "        pos += 1\n",
    "    else:\n",
    "        take = msgs[pos-1] + \". \" + line\n",
    "        msgs.append(take)\n",
    "        msgs.pop(pos-1)\n",
    "len(msgs)"
   ]
  },
  {
   "cell_type": "code",
   "execution_count": 29,
   "metadata": {},
   "outputs": [
    {
     "data": {
      "text/plain": [
       "['7/24/22, 8:57 AM - Messages and calls are end-to-end encrypted. No one outside of this chat, not even WhatsApp, can read or listen to them. Tap to learn more.',\n",
       " '7/16/22, 8:36 PM - +234 810 004 9756 created group \"HGC ‘22 Mega Jam Choir\"',\n",
       " '7/24/22, 4:08 PM - +234 810 004 9756: Happy Sunday beautiful people of God!!',\n",
       " '7/24/22, 4:10 PM - +234 810 004 9756: This message was deleted',\n",
       " \"7/24/22, 4:10 PM - +234 810 004 9756: _Before the Lord our God we've come to Bow_. And. _Roar_ both by *Dunsin Oyekan*.. Above are part of the songs to listen to towards MegaJam\",\n",
       " '7/24/22, 4:11 PM - +234 810 004 9756: Kindly acknowledge the message once you read it, thank you!',\n",
       " '7/24/22, 4:11 PM - +234 708 954 5383: Acknowledged',\n",
       " '7/24/22, 4:11 PM - +234 705 030 4772: Acknowledge.',\n",
       " '7/24/22, 4:14 PM - Iyin🐼🦋: Acknowledged',\n",
       " '7/24/22, 4:47 PM - +234 904 890 5812: Acknowledge']"
      ]
     },
     "execution_count": 29,
     "metadata": {},
     "output_type": "execute_result"
    }
   ],
   "source": [
    "msgs[0:10]"
   ]
  },
  {
   "cell_type": "code",
   "execution_count": 30,
   "metadata": {},
   "outputs": [
    {
     "name": "stdout",
     "output_type": "stream",
     "text": [
      "length of time is:\n",
      "31\n"
     ]
    }
   ],
   "source": [
    "time = [msgs[i].split(',')[1].split('-')[0] for i in range(len(msgs))]\n",
    "time = [s.strip(' ') for s in time] # Remove spacing\n",
    "print(\"length of time is:\")\n",
    "print(len(time))"
   ]
  },
  {
   "cell_type": "code",
   "execution_count": 31,
   "metadata": {},
   "outputs": [
    {
     "data": {
      "text/plain": [
       "31"
      ]
     },
     "execution_count": 31,
     "metadata": {},
     "output_type": "execute_result"
    }
   ],
   "source": [
    "date = [msgs[i].split(',')[0] for i in range(len(msgs))]\n",
    "len(date)\n",
    "name = [msgs[i].split('-')[1].split(':')[0] for i in range(len(msgs))]\n",
    "len(name)\n",
    "content = []\n",
    "for i in range(len(msgs)):\n",
    "  try:\n",
    "    content.append(msgs[i].split(':')[2])\n",
    "  except IndexError:\n",
    "    content.append('Missing Text')\n",
    "len(content)"
   ]
  },
  {
   "cell_type": "code",
   "execution_count": 32,
   "metadata": {},
   "outputs": [
    {
     "data": {
      "text/html": [
       "<div>\n",
       "<style scoped>\n",
       "    .dataframe tbody tr th:only-of-type {\n",
       "        vertical-align: middle;\n",
       "    }\n",
       "\n",
       "    .dataframe tbody tr th {\n",
       "        vertical-align: top;\n",
       "    }\n",
       "\n",
       "    .dataframe thead th {\n",
       "        text-align: right;\n",
       "    }\n",
       "</style>\n",
       "<table border=\"1\" class=\"dataframe\">\n",
       "  <thead>\n",
       "    <tr style=\"text-align: right;\">\n",
       "      <th></th>\n",
       "      <th>Date</th>\n",
       "      <th>Time</th>\n",
       "      <th>Name</th>\n",
       "      <th>Content</th>\n",
       "    </tr>\n",
       "  </thead>\n",
       "  <tbody>\n",
       "    <tr>\n",
       "      <th>0</th>\n",
       "      <td>7/24/22</td>\n",
       "      <td>8:57 AM</td>\n",
       "      <td>Messages and calls are end</td>\n",
       "      <td>Missing Text</td>\n",
       "    </tr>\n",
       "    <tr>\n",
       "      <th>1</th>\n",
       "      <td>7/16/22</td>\n",
       "      <td>8:36 PM</td>\n",
       "      <td>+234 810 004 9756 created group \"HGC ‘22 Mega...</td>\n",
       "      <td>Missing Text</td>\n",
       "    </tr>\n",
       "    <tr>\n",
       "      <th>2</th>\n",
       "      <td>7/24/22</td>\n",
       "      <td>4:08 PM</td>\n",
       "      <td>+234 810 004 9756</td>\n",
       "      <td>Happy Sunday beautiful people of God!!</td>\n",
       "    </tr>\n",
       "    <tr>\n",
       "      <th>3</th>\n",
       "      <td>7/24/22</td>\n",
       "      <td>4:10 PM</td>\n",
       "      <td>+234 810 004 9756</td>\n",
       "      <td>This message was deleted</td>\n",
       "    </tr>\n",
       "    <tr>\n",
       "      <th>4</th>\n",
       "      <td>7/24/22</td>\n",
       "      <td>4:10 PM</td>\n",
       "      <td>+234 810 004 9756</td>\n",
       "      <td>_Before the Lord our God we've come to Bow_. ...</td>\n",
       "    </tr>\n",
       "    <tr>\n",
       "      <th>5</th>\n",
       "      <td>7/24/22</td>\n",
       "      <td>4:11 PM</td>\n",
       "      <td>+234 810 004 9756</td>\n",
       "      <td>Kindly acknowledge the message once you read ...</td>\n",
       "    </tr>\n",
       "    <tr>\n",
       "      <th>6</th>\n",
       "      <td>7/24/22</td>\n",
       "      <td>4:11 PM</td>\n",
       "      <td>+234 708 954 5383</td>\n",
       "      <td>Acknowledged</td>\n",
       "    </tr>\n",
       "    <tr>\n",
       "      <th>7</th>\n",
       "      <td>7/24/22</td>\n",
       "      <td>4:11 PM</td>\n",
       "      <td>+234 705 030 4772</td>\n",
       "      <td>Acknowledge.</td>\n",
       "    </tr>\n",
       "    <tr>\n",
       "      <th>8</th>\n",
       "      <td>7/24/22</td>\n",
       "      <td>4:14 PM</td>\n",
       "      <td>Iyin🐼🦋</td>\n",
       "      <td>Acknowledged</td>\n",
       "    </tr>\n",
       "    <tr>\n",
       "      <th>9</th>\n",
       "      <td>7/24/22</td>\n",
       "      <td>4:47 PM</td>\n",
       "      <td>+234 904 890 5812</td>\n",
       "      <td>Acknowledge</td>\n",
       "    </tr>\n",
       "    <tr>\n",
       "      <th>10</th>\n",
       "      <td>7/24/22</td>\n",
       "      <td>4:48 PM</td>\n",
       "      <td>Sis Dammy Akobo</td>\n",
       "      <td>Acknowledged</td>\n",
       "    </tr>\n",
       "    <tr>\n",
       "      <th>11</th>\n",
       "      <td>7/24/22</td>\n",
       "      <td>6:46 PM</td>\n",
       "      <td>+234 811 998 8665</td>\n",
       "      <td>Acknowledge</td>\n",
       "    </tr>\n",
       "    <tr>\n",
       "      <th>12</th>\n",
       "      <td>7/24/22</td>\n",
       "      <td>6:47 PM</td>\n",
       "      <td>+234 906 750 0414</td>\n",
       "      <td>📌</td>\n",
       "    </tr>\n",
       "    <tr>\n",
       "      <th>13</th>\n",
       "      <td>7/24/22</td>\n",
       "      <td>7:24 PM</td>\n",
       "      <td>+234 907 117 8715</td>\n",
       "      <td>Acknowledge</td>\n",
       "    </tr>\n",
       "    <tr>\n",
       "      <th>14</th>\n",
       "      <td>7/24/22</td>\n",
       "      <td>7:27 PM</td>\n",
       "      <td>+234 811 116 7514</td>\n",
       "      <td>Acknowledged</td>\n",
       "    </tr>\n",
       "    <tr>\n",
       "      <th>15</th>\n",
       "      <td>7/24/22</td>\n",
       "      <td>7:34 PM</td>\n",
       "      <td>+234 705 997 0539</td>\n",
       "      <td>🎙️</td>\n",
       "    </tr>\n",
       "    <tr>\n",
       "      <th>16</th>\n",
       "      <td>7/25/22</td>\n",
       "      <td>6:27 AM</td>\n",
       "      <td>+234 703 814 6935</td>\n",
       "      <td>acknowledged</td>\n",
       "    </tr>\n",
       "    <tr>\n",
       "      <th>17</th>\n",
       "      <td>7/25/22</td>\n",
       "      <td>6:28 AM</td>\n",
       "      <td>+234 703 814 6935</td>\n",
       "      <td>sorry does anyone has  the song</td>\n",
       "    </tr>\n",
       "    <tr>\n",
       "      <th>18</th>\n",
       "      <td>7/25/22</td>\n",
       "      <td>12:12 PM</td>\n",
       "      <td>+234 904 890 5812</td>\n",
       "      <td>&lt;Media omitted&gt;</td>\n",
       "    </tr>\n",
       "    <tr>\n",
       "      <th>19</th>\n",
       "      <td>7/25/22</td>\n",
       "      <td>12:12 PM</td>\n",
       "      <td>+234 904 890 5812</td>\n",
       "      <td>&lt;Media omitted&gt;</td>\n",
       "    </tr>\n",
       "    <tr>\n",
       "      <th>20</th>\n",
       "      <td>7/25/22</td>\n",
       "      <td>2:06 PM</td>\n",
       "      <td>Jolaadura</td>\n",
       "      <td>Acknowledged</td>\n",
       "    </tr>\n",
       "    <tr>\n",
       "      <th>21</th>\n",
       "      <td>7/25/22</td>\n",
       "      <td>2:07 PM</td>\n",
       "      <td>Jolaadura</td>\n",
       "      <td>Thank you.</td>\n",
       "    </tr>\n",
       "    <tr>\n",
       "      <th>22</th>\n",
       "      <td>7/26/22</td>\n",
       "      <td>3:20 AM</td>\n",
       "      <td>+234 705 997 0539</td>\n",
       "      <td>Seen</td>\n",
       "    </tr>\n",
       "    <tr>\n",
       "      <th>23</th>\n",
       "      <td>7/26/22</td>\n",
       "      <td>3:21 AM</td>\n",
       "      <td>+234 705 997 0539</td>\n",
       "      <td>Received</td>\n",
       "    </tr>\n",
       "    <tr>\n",
       "      <th>24</th>\n",
       "      <td>7/27/22</td>\n",
       "      <td>10:05 PM</td>\n",
       "      <td>+234 810 004 9756</td>\n",
       "      <td>Good evening fam! I believe we had a blessed ...</td>\n",
       "    </tr>\n",
       "    <tr>\n",
       "      <th>25</th>\n",
       "      <td>7/27/22</td>\n",
       "      <td>10:06 PM</td>\n",
       "      <td>+234 810 004 9756</td>\n",
       "      <td>Kindly acknowledge the message as you receive...</td>\n",
       "    </tr>\n",
       "    <tr>\n",
       "      <th>26</th>\n",
       "      <td>7/27/22</td>\n",
       "      <td>10:08 PM</td>\n",
       "      <td>+234 705 030 4772</td>\n",
       "      <td>Acknowledged.</td>\n",
       "    </tr>\n",
       "    <tr>\n",
       "      <th>27</th>\n",
       "      <td>7/27/22</td>\n",
       "      <td>10:25 PM</td>\n",
       "      <td>Jolaadura</td>\n",
       "      <td>Acknowledged</td>\n",
       "    </tr>\n",
       "    <tr>\n",
       "      <th>28</th>\n",
       "      <td>7/28/22</td>\n",
       "      <td>5:36 AM</td>\n",
       "      <td>+234 803 509 1018</td>\n",
       "      <td>𝗚🅁𝗔🄲𝗘🅃 𝗢🄳𝗔🅈. 🄹🅄🄻🅈 28. *APPRECIATING YOURSELF*...</td>\n",
       "    </tr>\n",
       "    <tr>\n",
       "      <th>29</th>\n",
       "      <td>7/28/22</td>\n",
       "      <td>5:43 AM</td>\n",
       "      <td>+234 803 509 1018</td>\n",
       "      <td>Take caution as to your words, actions, and a...</td>\n",
       "    </tr>\n",
       "    <tr>\n",
       "      <th>30</th>\n",
       "      <td>8/3/22</td>\n",
       "      <td>8:22 PM</td>\n",
       "      <td>+234 813 584 1384</td>\n",
       "      <td>Good evening here. Please is this group activ...</td>\n",
       "    </tr>\n",
       "  </tbody>\n",
       "</table>\n",
       "</div>"
      ],
      "text/plain": [
       "       Date      Time                                               Name  \\\n",
       "0   7/24/22   8:57 AM                         Messages and calls are end   \n",
       "1   7/16/22   8:36 PM   +234 810 004 9756 created group \"HGC ‘22 Mega...   \n",
       "2   7/24/22   4:08 PM                                  +234 810 004 9756   \n",
       "3   7/24/22   4:10 PM                                  +234 810 004 9756   \n",
       "4   7/24/22   4:10 PM                                  +234 810 004 9756   \n",
       "5   7/24/22   4:11 PM                                  +234 810 004 9756   \n",
       "6   7/24/22   4:11 PM                                  +234 708 954 5383   \n",
       "7   7/24/22   4:11 PM                                  +234 705 030 4772   \n",
       "8   7/24/22   4:14 PM                                             Iyin🐼🦋   \n",
       "9   7/24/22   4:47 PM                                  +234 904 890 5812   \n",
       "10  7/24/22   4:48 PM                                    Sis Dammy Akobo   \n",
       "11  7/24/22   6:46 PM                                  +234 811 998 8665   \n",
       "12  7/24/22   6:47 PM                                  +234 906 750 0414   \n",
       "13  7/24/22   7:24 PM                                  +234 907 117 8715   \n",
       "14  7/24/22   7:27 PM                                  +234 811 116 7514   \n",
       "15  7/24/22   7:34 PM                                  +234 705 997 0539   \n",
       "16  7/25/22   6:27 AM                                  +234 703 814 6935   \n",
       "17  7/25/22   6:28 AM                                  +234 703 814 6935   \n",
       "18  7/25/22  12:12 PM                                  +234 904 890 5812   \n",
       "19  7/25/22  12:12 PM                                  +234 904 890 5812   \n",
       "20  7/25/22   2:06 PM                                          Jolaadura   \n",
       "21  7/25/22   2:07 PM                                          Jolaadura   \n",
       "22  7/26/22   3:20 AM                                  +234 705 997 0539   \n",
       "23  7/26/22   3:21 AM                                  +234 705 997 0539   \n",
       "24  7/27/22  10:05 PM                                  +234 810 004 9756   \n",
       "25  7/27/22  10:06 PM                                  +234 810 004 9756   \n",
       "26  7/27/22  10:08 PM                                  +234 705 030 4772   \n",
       "27  7/27/22  10:25 PM                                          Jolaadura   \n",
       "28  7/28/22   5:36 AM                                  +234 803 509 1018   \n",
       "29  7/28/22   5:43 AM                                  +234 803 509 1018   \n",
       "30   8/3/22   8:22 PM                                  +234 813 584 1384   \n",
       "\n",
       "                                              Content  \n",
       "0                                        Missing Text  \n",
       "1                                        Missing Text  \n",
       "2              Happy Sunday beautiful people of God!!  \n",
       "3                            This message was deleted  \n",
       "4    _Before the Lord our God we've come to Bow_. ...  \n",
       "5    Kindly acknowledge the message once you read ...  \n",
       "6                                        Acknowledged  \n",
       "7                                        Acknowledge.  \n",
       "8                                        Acknowledged  \n",
       "9                                         Acknowledge  \n",
       "10                                       Acknowledged  \n",
       "11                                        Acknowledge  \n",
       "12                                                  📌  \n",
       "13                                        Acknowledge  \n",
       "14                                       Acknowledged  \n",
       "15                                                 🎙️  \n",
       "16                                       acknowledged  \n",
       "17                    sorry does anyone has  the song  \n",
       "18                                    <Media omitted>  \n",
       "19                                    <Media omitted>  \n",
       "20                                       Acknowledged  \n",
       "21                                         Thank you.  \n",
       "22                                               Seen  \n",
       "23                                           Received  \n",
       "24   Good evening fam! I believe we had a blessed ...  \n",
       "25   Kindly acknowledge the message as you receive...  \n",
       "26                                      Acknowledged.  \n",
       "27                                       Acknowledged  \n",
       "28   𝗚🅁𝗔🄲𝗘🅃 𝗢🄳𝗔🅈. 🄹🅄🄻🅈 28. *APPRECIATING YOURSELF*...  \n",
       "29   Take caution as to your words, actions, and a...  \n",
       "30   Good evening here. Please is this group activ...  "
      ]
     },
     "execution_count": 32,
     "metadata": {},
     "output_type": "execute_result"
    }
   ],
   "source": [
    "df = pd.DataFrame(list(zip(date, time, name, content)), columns = ['Date', 'Time', 'Name', 'Content'])\n",
    "df"
   ]
  },
  {
   "cell_type": "code",
   "execution_count": 16,
   "metadata": {},
   "outputs": [
    {
     "data": {
      "text/html": [
       "<div>\n",
       "<style scoped>\n",
       "    .dataframe tbody tr th:only-of-type {\n",
       "        vertical-align: middle;\n",
       "    }\n",
       "\n",
       "    .dataframe tbody tr th {\n",
       "        vertical-align: top;\n",
       "    }\n",
       "\n",
       "    .dataframe thead th {\n",
       "        text-align: right;\n",
       "    }\n",
       "</style>\n",
       "<table border=\"1\" class=\"dataframe\">\n",
       "  <thead>\n",
       "    <tr style=\"text-align: right;\">\n",
       "      <th></th>\n",
       "      <th>Date</th>\n",
       "      <th>Time</th>\n",
       "      <th>Name</th>\n",
       "      <th>Content</th>\n",
       "    </tr>\n",
       "  </thead>\n",
       "  <tbody>\n",
       "    <tr>\n",
       "      <th>0</th>\n",
       "      <td>5/7/22</td>\n",
       "      <td>7:01 PM</td>\n",
       "      <td>S+N Ayoade</td>\n",
       "      <td>Waiting for this message</td>\n",
       "    </tr>\n",
       "    <tr>\n",
       "      <th>1</th>\n",
       "      <td>5/7/22</td>\n",
       "      <td>7:03 PM</td>\n",
       "      <td>+234 816 484 7452</td>\n",
       "      <td>Finally we have people that can answer any qu...</td>\n",
       "    </tr>\n",
       "    <tr>\n",
       "      <th>2</th>\n",
       "      <td>5/7/22</td>\n",
       "      <td>7:03 PM</td>\n",
       "      <td>+234 816 484 7452</td>\n",
       "      <td>I am moving over to the side of this that bri...</td>\n",
       "    </tr>\n",
       "    <tr>\n",
       "      <th>3</th>\n",
       "      <td>5/7/22</td>\n",
       "      <td>7:04 PM</td>\n",
       "      <td>+234 812 091 9501</td>\n",
       "      <td>No cap! 🔥</td>\n",
       "    </tr>\n",
       "    <tr>\n",
       "      <th>4</th>\n",
       "      <td>5/7/22</td>\n",
       "      <td>7:04 PM</td>\n",
       "      <td>S+N Ayoade</td>\n",
       "      <td>Na to ask for tips before going for interview...</td>\n",
       "    </tr>\n",
       "    <tr>\n",
       "      <th>...</th>\n",
       "      <td>...</td>\n",
       "      <td>...</td>\n",
       "      <td>...</td>\n",
       "      <td>...</td>\n",
       "    </tr>\n",
       "    <tr>\n",
       "      <th>19578</th>\n",
       "      <td>8/3/22</td>\n",
       "      <td>11:14 PM</td>\n",
       "      <td>Joe</td>\n",
       "      <td>I'm not sure if you could pass \"skip this num...</td>\n",
       "    </tr>\n",
       "    <tr>\n",
       "      <th>19579</th>\n",
       "      <td>8/3/22</td>\n",
       "      <td>11:15 PM</td>\n",
       "      <td>Joe</td>\n",
       "      <td>I am assuming, date time author and message i...</td>\n",
       "    </tr>\n",
       "    <tr>\n",
       "      <th>19580</th>\n",
       "      <td>8/3/22</td>\n",
       "      <td>11:17 PM</td>\n",
       "      <td>S+N Ayoade</td>\n",
       "      <td>Yea</td>\n",
       "    </tr>\n",
       "    <tr>\n",
       "      <th>19581</th>\n",
       "      <td>8/3/22</td>\n",
       "      <td>11:18 PM</td>\n",
       "      <td>S+N Ayoade</td>\n",
       "      <td>Should I share with you ?. This your message ...</td>\n",
       "    </tr>\n",
       "    <tr>\n",
       "      <th>19582</th>\n",
       "      <td>8/3/22</td>\n",
       "      <td>11:28 PM</td>\n",
       "      <td>Joe</td>\n",
       "      <td>Yes boss</td>\n",
       "    </tr>\n",
       "  </tbody>\n",
       "</table>\n",
       "<p>19583 rows × 4 columns</p>\n",
       "</div>"
      ],
      "text/plain": [
       "         Date      Time                Name  \\\n",
       "0      5/7/22   7:01 PM          S+N Ayoade   \n",
       "1      5/7/22   7:03 PM   +234 816 484 7452   \n",
       "2      5/7/22   7:03 PM   +234 816 484 7452   \n",
       "3      5/7/22   7:04 PM   +234 812 091 9501   \n",
       "4      5/7/22   7:04 PM          S+N Ayoade   \n",
       "...       ...       ...                 ...   \n",
       "19578  8/3/22  11:14 PM                 Joe   \n",
       "19579  8/3/22  11:15 PM                 Joe   \n",
       "19580  8/3/22  11:17 PM          S+N Ayoade   \n",
       "19581  8/3/22  11:18 PM          S+N Ayoade   \n",
       "19582  8/3/22  11:28 PM                 Joe   \n",
       "\n",
       "                                                 Content  \n",
       "0                               Waiting for this message  \n",
       "1       Finally we have people that can answer any qu...  \n",
       "2       I am moving over to the side of this that bri...  \n",
       "3                                              No cap! 🔥  \n",
       "4       Na to ask for tips before going for interview...  \n",
       "...                                                  ...  \n",
       "19578   I'm not sure if you could pass \"skip this num...  \n",
       "19579   I am assuming, date time author and message i...  \n",
       "19580                                                Yea  \n",
       "19581   Should I share with you ?. This your message ...  \n",
       "19582                                           Yes boss  \n",
       "\n",
       "[19583 rows x 4 columns]"
      ]
     },
     "execution_count": 16,
     "metadata": {},
     "output_type": "execute_result"
    }
   ],
   "source": [
    "df = df[df[\"Content\"]!='Missing Text']\n",
    "df.reset_index(inplace=True, drop=True)\n",
    "df"
   ]
  },
  {
   "cell_type": "code",
   "execution_count": 17,
   "metadata": {},
   "outputs": [
    {
     "data": {
      "text/plain": [
       "0       2022-05-07 19:01:00\n",
       "1       2022-05-07 19:03:00\n",
       "2       2022-05-07 19:03:00\n",
       "3       2022-05-07 19:04:00\n",
       "4       2022-05-07 19:04:00\n",
       "                ...        \n",
       "19578   2022-08-03 23:14:00\n",
       "19579   2022-08-03 23:15:00\n",
       "19580   2022-08-03 23:17:00\n",
       "19581   2022-08-03 23:18:00\n",
       "19582   2022-08-03 23:28:00\n",
       "Name: DateTime, Length: 19583, dtype: datetime64[ns]"
      ]
     },
     "execution_count": 17,
     "metadata": {},
     "output_type": "execute_result"
    }
   ],
   "source": [
    "df['DateTime'] = pd.to_datetime(df['Date'] + ' ' + df['Time'])\n",
    "df['DateTime']"
   ]
  },
  {
   "cell_type": "code",
   "execution_count": 18,
   "metadata": {},
   "outputs": [],
   "source": [
    "df['weekday'] = df['DateTime'].apply(lambda x: x.day_name())"
   ]
  },
  {
   "cell_type": "code",
   "execution_count": 19,
   "metadata": {},
   "outputs": [],
   "source": [
    "df['Letter_Count'] = df['Content'].apply(lambda s : len(s))\n",
    "df['Word_Count'] = df['Content'].apply(lambda s : len(s.split(' ')))"
   ]
  },
  {
   "cell_type": "code",
   "execution_count": 20,
   "metadata": {},
   "outputs": [],
   "source": [
    "df['Hour'] = df['Time'].apply(lambda x : x.split(':')[0]) \n",
    "# The first token of a value in the Time Column contains the hour (Eg., \"12\" in \"12:15\")"
   ]
  },
  {
   "cell_type": "code",
   "execution_count": 21,
   "metadata": {},
   "outputs": [
    {
     "data": {
      "text/html": [
       "<div>\n",
       "<style scoped>\n",
       "    .dataframe tbody tr th:only-of-type {\n",
       "        vertical-align: middle;\n",
       "    }\n",
       "\n",
       "    .dataframe tbody tr th {\n",
       "        vertical-align: top;\n",
       "    }\n",
       "\n",
       "    .dataframe thead th {\n",
       "        text-align: right;\n",
       "    }\n",
       "</style>\n",
       "<table border=\"1\" class=\"dataframe\">\n",
       "  <thead>\n",
       "    <tr style=\"text-align: right;\">\n",
       "      <th></th>\n",
       "      <th>Date</th>\n",
       "      <th>Time</th>\n",
       "      <th>Name</th>\n",
       "      <th>Content</th>\n",
       "      <th>DateTime</th>\n",
       "      <th>weekday</th>\n",
       "      <th>Letter_Count</th>\n",
       "      <th>Word_Count</th>\n",
       "      <th>Hour</th>\n",
       "    </tr>\n",
       "  </thead>\n",
       "  <tbody>\n",
       "    <tr>\n",
       "      <th>0</th>\n",
       "      <td>5/7/22</td>\n",
       "      <td>7:01 PM</td>\n",
       "      <td>S+N Ayoade</td>\n",
       "      <td>Waiting for this message</td>\n",
       "      <td>2022-05-07 19:01:00</td>\n",
       "      <td>Saturday</td>\n",
       "      <td>25</td>\n",
       "      <td>5</td>\n",
       "      <td>7</td>\n",
       "    </tr>\n",
       "    <tr>\n",
       "      <th>1</th>\n",
       "      <td>5/7/22</td>\n",
       "      <td>7:03 PM</td>\n",
       "      <td>+234 816 484 7452</td>\n",
       "      <td>Finally we have people that can answer any qu...</td>\n",
       "      <td>2022-05-07 19:03:00</td>\n",
       "      <td>Saturday</td>\n",
       "      <td>69</td>\n",
       "      <td>14</td>\n",
       "      <td>7</td>\n",
       "    </tr>\n",
       "    <tr>\n",
       "      <th>2</th>\n",
       "      <td>5/7/22</td>\n",
       "      <td>7:03 PM</td>\n",
       "      <td>+234 816 484 7452</td>\n",
       "      <td>I am moving over to the side of this that bri...</td>\n",
       "      <td>2022-05-07 19:03:00</td>\n",
       "      <td>Saturday</td>\n",
       "      <td>65</td>\n",
       "      <td>15</td>\n",
       "      <td>7</td>\n",
       "    </tr>\n",
       "    <tr>\n",
       "      <th>3</th>\n",
       "      <td>5/7/22</td>\n",
       "      <td>7:04 PM</td>\n",
       "      <td>+234 812 091 9501</td>\n",
       "      <td>No cap! 🔥</td>\n",
       "      <td>2022-05-07 19:04:00</td>\n",
       "      <td>Saturday</td>\n",
       "      <td>10</td>\n",
       "      <td>4</td>\n",
       "      <td>7</td>\n",
       "    </tr>\n",
       "    <tr>\n",
       "      <th>4</th>\n",
       "      <td>5/7/22</td>\n",
       "      <td>7:04 PM</td>\n",
       "      <td>S+N Ayoade</td>\n",
       "      <td>Na to ask for tips before going for interview...</td>\n",
       "      <td>2022-05-07 19:04:00</td>\n",
       "      <td>Saturday</td>\n",
       "      <td>50</td>\n",
       "      <td>11</td>\n",
       "      <td>7</td>\n",
       "    </tr>\n",
       "  </tbody>\n",
       "</table>\n",
       "</div>"
      ],
      "text/plain": [
       "     Date     Time                Name  \\\n",
       "0  5/7/22  7:01 PM          S+N Ayoade   \n",
       "1  5/7/22  7:03 PM   +234 816 484 7452   \n",
       "2  5/7/22  7:03 PM   +234 816 484 7452   \n",
       "3  5/7/22  7:04 PM   +234 812 091 9501   \n",
       "4  5/7/22  7:04 PM          S+N Ayoade   \n",
       "\n",
       "                                             Content            DateTime  \\\n",
       "0                           Waiting for this message 2022-05-07 19:01:00   \n",
       "1   Finally we have people that can answer any qu... 2022-05-07 19:03:00   \n",
       "2   I am moving over to the side of this that bri... 2022-05-07 19:03:00   \n",
       "3                                          No cap! 🔥 2022-05-07 19:04:00   \n",
       "4   Na to ask for tips before going for interview... 2022-05-07 19:04:00   \n",
       "\n",
       "    weekday  Letter_Count  Word_Count Hour  \n",
       "0  Saturday            25           5    7  \n",
       "1  Saturday            69          14    7  \n",
       "2  Saturday            65          15    7  \n",
       "3  Saturday            10           4    7  \n",
       "4  Saturday            50          11    7  "
      ]
     },
     "execution_count": 21,
     "metadata": {},
     "output_type": "execute_result"
    }
   ],
   "source": [
    "#print first five rows of our dataframe\n",
    "df.head()"
   ]
  },
  {
   "cell_type": "code",
   "execution_count": 22,
   "metadata": {},
   "outputs": [],
   "source": [
    "#saving to csv format\n",
    "df.to_csv(\"ydp_cleaned_data.csv\")"
   ]
  },
  {
   "cell_type": "code",
   "execution_count": null,
   "metadata": {},
   "outputs": [],
   "source": []
  }
 ],
 "metadata": {
  "hide_input": false,
  "kernelspec": {
   "display_name": "Python 3",
   "language": "python",
   "name": "python3"
  },
  "language_info": {
   "codemirror_mode": {
    "name": "ipython",
    "version": 3
   },
   "file_extension": ".py",
   "mimetype": "text/x-python",
   "name": "python",
   "nbconvert_exporter": "python",
   "pygments_lexer": "ipython3",
   "version": "3.7.6"
  },
  "toc": {
   "base_numbering": 1,
   "nav_menu": {},
   "number_sections": true,
   "sideBar": true,
   "skip_h1_title": false,
   "title_cell": "Table of Contents",
   "title_sidebar": "Contents",
   "toc_cell": false,
   "toc_position": {},
   "toc_section_display": true,
   "toc_window_display": false
  }
 },
 "nbformat": 4,
 "nbformat_minor": 2
}
