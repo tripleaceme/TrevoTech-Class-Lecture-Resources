{
 "cells": [
  {
   "cell_type": "code",
   "execution_count": 1,
   "metadata": {},
   "outputs": [],
   "source": [
    "import pandas as pd"
   ]
  },
  {
   "cell_type": "code",
   "execution_count": 2,
   "metadata": {},
   "outputs": [],
   "source": [
    "read = 'solo_learn.txt'"
   ]
  },
  {
   "cell_type": "code",
   "execution_count": 3,
   "metadata": {},
   "outputs": [],
   "source": [
    "#read the files in\n",
    "with open(read,'r',encoding=\"utf8\") as file:\n",
    "  ilines = file.readlines()"
   ]
  },
  {
   "cell_type": "code",
   "execution_count": 4,
   "metadata": {},
   "outputs": [
    {
     "data": {
      "text/plain": [
       "'[27/09/2021, 09:31:40] SOLOLEARN NIGERIA 🇳🇬👨\\u200d💻👩\\u200d💻: \\u200eMessages and calls are end-to-end encrypted. No one outside of this chat, not even WhatsApp, can read or listen to them.\\n'"
      ]
     },
     "execution_count": 4,
     "metadata": {},
     "output_type": "execute_result"
    }
   ],
   "source": [
    "ilines[0]"
   ]
  },
  {
   "cell_type": "code",
   "execution_count": 5,
   "metadata": {},
   "outputs": [],
   "source": [
    "idata = []\n",
    "itemp = []\n",
    "\n",
    "\"\"\"Try to join message that span multiple lines together\"\"\"\n",
    "for i in ilines:\n",
    "  if '[' in i[:2]:\n",
    "    if ':' in i.split(']')[1]:\n",
    "      if len(itemp) >1:\n",
    "        idata[-1] = idata[-1] + ' '.join(itemp)\n",
    "        itemp=[]\n",
    "        # print('i am breaking')\n",
    "        # break\n",
    "      idata.append(i)\n",
    "      #print(i)\n",
    "  else:\n",
    "    itemp.append(i)\n",
    "    #print('exit')"
   ]
  },
  {
   "cell_type": "code",
   "execution_count": 6,
   "metadata": {},
   "outputs": [],
   "source": [
    "inot_processed = []\n",
    "iprocessed = []\n",
    "for j,i in enumerate(idata):\n",
    "\n",
    "  if '[' in i[:2] and ':' in i.split(']')[1]:\n",
    "    #print(i)\n",
    "    date = i.split(',')[0][1:]\n",
    "    time = i.split(',')[1].split(']')[0][1:]\n",
    "    author = i.split(']')[1].split(':')[0]\n",
    "    message = i.split(']')[1].split(':')[1]\n",
    "    #print(i)\n",
    "    iprocessed.append([date,time,author,message])\n",
    "  else:\n",
    "    inot_processed.append(i)"
   ]
  },
  {
   "cell_type": "code",
   "execution_count": 9,
   "metadata": {},
   "outputs": [
    {
     "data": {
      "text/html": [
       "<div>\n",
       "<style scoped>\n",
       "    .dataframe tbody tr th:only-of-type {\n",
       "        vertical-align: middle;\n",
       "    }\n",
       "\n",
       "    .dataframe tbody tr th {\n",
       "        vertical-align: top;\n",
       "    }\n",
       "\n",
       "    .dataframe thead th {\n",
       "        text-align: right;\n",
       "    }\n",
       "</style>\n",
       "<table border=\"1\" class=\"dataframe\">\n",
       "  <thead>\n",
       "    <tr style=\"text-align: right;\">\n",
       "      <th></th>\n",
       "      <th>Date</th>\n",
       "      <th>Time</th>\n",
       "      <th>Author</th>\n",
       "      <th>Message</th>\n",
       "    </tr>\n",
       "  </thead>\n",
       "  <tbody>\n",
       "    <tr>\n",
       "      <th>0</th>\n",
       "      <td>27/09/2021</td>\n",
       "      <td>09:31:40</td>\n",
       "      <td>SOLOLEARN NIGERIA 🇳🇬👨‍💻👩‍💻</td>\n",
       "      <td>‎Messages and calls are end-to-end encrypted....</td>\n",
       "    </tr>\n",
       "    <tr>\n",
       "      <th>1</th>\n",
       "      <td>27/09/2021</td>\n",
       "      <td>09:31:40</td>\n",
       "      <td>‪+234 704 558 3524‬</td>\n",
       "      <td>👏🏾\\n</td>\n",
       "    </tr>\n",
       "    <tr>\n",
       "      <th>2</th>\n",
       "      <td>27/09/2021</td>\n",
       "      <td>09:32:57</td>\n",
       "      <td>Eniola SLN</td>\n",
       "      <td>na you boss.\\n</td>\n",
       "    </tr>\n",
       "    <tr>\n",
       "      <th>3</th>\n",
       "      <td>27/09/2021</td>\n",
       "      <td>09:33:35</td>\n",
       "      <td>‪+234 704 558 3524‬</td>\n",
       "      <td>Yeah. I used filter and map before. I didn’t ...</td>\n",
       "    </tr>\n",
       "    <tr>\n",
       "      <th>4</th>\n",
       "      <td>27/09/2021</td>\n",
       "      <td>09:58:52</td>\n",
       "      <td>Olisa</td>\n",
       "      <td>😹😹\\n</td>\n",
       "    </tr>\n",
       "    <tr>\n",
       "      <th>5</th>\n",
       "      <td>[27/09/2021</td>\n",
       "      <td>10:15:02</td>\n",
       "      <td>‪+234 706 436 5293‬</td>\n",
       "      <td>‎sticker omitted\\n</td>\n",
       "    </tr>\n",
       "    <tr>\n",
       "      <th>6</th>\n",
       "      <td>27/09/2021</td>\n",
       "      <td>10:32:17</td>\n",
       "      <td>‪+234 903 074 9485‬</td>\n",
       "      <td>It could be different if you use this == inst...</td>\n",
       "    </tr>\n",
       "    <tr>\n",
       "      <th>7</th>\n",
       "      <td>[27/09/2021</td>\n",
       "      <td>10:32:47</td>\n",
       "      <td>‪+234 908 295 0323‬</td>\n",
       "      <td>‎sticker omitted\\n</td>\n",
       "    </tr>\n",
       "    <tr>\n",
       "      <th>8</th>\n",
       "      <td>27/09/2021</td>\n",
       "      <td>10:33:54</td>\n",
       "      <td>‪+234 805 221 8036‬</td>\n",
       "      <td>🤝🏽🤝🏽 Another W dey for inbox!\\n</td>\n",
       "    </tr>\n",
       "    <tr>\n",
       "      <th>9</th>\n",
       "      <td>27/09/2021</td>\n",
       "      <td>10:41:38</td>\n",
       "      <td>‪+234 816 505 8399‬</td>\n",
       "      <td>Yeah it is false. I guess it is because they ...</td>\n",
       "    </tr>\n",
       "  </tbody>\n",
       "</table>\n",
       "</div>"
      ],
      "text/plain": [
       "          Date      Time                       Author  \\\n",
       "0   27/09/2021  09:31:40   SOLOLEARN NIGERIA 🇳🇬👨‍💻👩‍💻   \n",
       "1   27/09/2021  09:31:40          ‪+234 704 558 3524‬   \n",
       "2   27/09/2021  09:32:57                   Eniola SLN   \n",
       "3   27/09/2021  09:33:35          ‪+234 704 558 3524‬   \n",
       "4   27/09/2021  09:58:52                        Olisa   \n",
       "5  [27/09/2021  10:15:02          ‪+234 706 436 5293‬   \n",
       "6   27/09/2021  10:32:17          ‪+234 903 074 9485‬   \n",
       "7  [27/09/2021  10:32:47          ‪+234 908 295 0323‬   \n",
       "8   27/09/2021  10:33:54          ‪+234 805 221 8036‬   \n",
       "9   27/09/2021  10:41:38          ‪+234 816 505 8399‬   \n",
       "\n",
       "                                             Message  \n",
       "0   ‎Messages and calls are end-to-end encrypted....  \n",
       "1                                               👏🏾\\n  \n",
       "2                                     na you boss.\\n  \n",
       "3   Yeah. I used filter and map before. I didn’t ...  \n",
       "4                                               😹😹\\n  \n",
       "5                                 ‎sticker omitted\\n  \n",
       "6   It could be different if you use this == inst...  \n",
       "7                                 ‎sticker omitted\\n  \n",
       "8                    🤝🏽🤝🏽 Another W dey for inbox!\\n  \n",
       "9   Yeah it is false. I guess it is because they ...  "
      ]
     },
     "execution_count": 9,
     "metadata": {},
     "output_type": "execute_result"
    }
   ],
   "source": [
    "df = pd.DataFrame(data=iprocessed,columns=['Date','Time','Author','Message'])\n",
    "df.head(10)"
   ]
  },
  {
   "cell_type": "code",
   "execution_count": 10,
   "metadata": {},
   "outputs": [],
   "source": [
    "#saving to csv format\n",
    "df.to_csv(\"iphone_cleaned_data.csv\")"
   ]
  },
  {
   "cell_type": "code",
   "execution_count": null,
   "metadata": {},
   "outputs": [],
   "source": []
  }
 ],
 "metadata": {
  "kernelspec": {
   "display_name": "Python 3",
   "language": "python",
   "name": "python3"
  },
  "language_info": {
   "codemirror_mode": {
    "name": "ipython",
    "version": 3
   },
   "file_extension": ".py",
   "mimetype": "text/x-python",
   "name": "python",
   "nbconvert_exporter": "python",
   "pygments_lexer": "ipython3",
   "version": "3.7.6"
  }
 },
 "nbformat": 4,
 "nbformat_minor": 4
}
