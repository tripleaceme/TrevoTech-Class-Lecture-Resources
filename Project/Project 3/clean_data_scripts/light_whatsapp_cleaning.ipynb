{
 "cells": [
  {
   "cell_type": "code",
   "execution_count": 1,
   "metadata": {},
   "outputs": [],
   "source": [
    "import pandas as pd"
   ]
  },
  {
   "cell_type": "code",
   "execution_count": 22,
   "metadata": {},
   "outputs": [],
   "source": [
    "read = 'ydp.txt'"
   ]
  },
  {
   "cell_type": "code",
   "execution_count": 23,
   "metadata": {},
   "outputs": [],
   "source": [
    "#read the files in\n",
    "with open(read,'r',encoding=\"utf8\") as file:\n",
    "  lines = file.readlines()"
   ]
  },
  {
   "cell_type": "code",
   "execution_count": 24,
   "metadata": {},
   "outputs": [],
   "source": [
    "data = []\n",
    "temp = []\n",
    "\n",
    "\"\"\"Try to join message that span multiple lines together\"\"\"\n",
    "for i in lines:\n",
    "  if '-' in i:\n",
    "    if ':' in i.split('-')[1]:\n",
    "      if len(temp) >1:\n",
    "        data[-1] = data[-1] + ' '.join(temp)\n",
    "        temp=[]\n",
    "        # print('i am breaking')\n",
    "        # break\n",
    "      data.append(i)\n",
    "      #print(i)\n",
    "  else:\n",
    "    temp.append(i)\n",
    "    #print('exit')"
   ]
  },
  {
   "cell_type": "code",
   "execution_count": 25,
   "metadata": {},
   "outputs": [],
   "source": [
    "not_processed = []\n",
    "processed = []\n",
    "for j,i in enumerate(data):\n",
    "\n",
    "  if '/' in i[:3] and '-' in i and ':' in i.split('-')[1]:\n",
    "    #print(i)\n",
    "    date = i.split(',')[0]\n",
    "    time = i.split(',')[1].split('-')[0][1:]\n",
    "    author = i.split('-')[1].split(':')[0]\n",
    "    message = i.split('-')[1].split(':')[1]\n",
    "    #print(i)\n",
    "    processed.append([date,time,author,message])\n",
    "  else:\n",
    "    not_processed.append(i)"
   ]
  },
  {
   "cell_type": "code",
   "execution_count": 26,
   "metadata": {},
   "outputs": [
    {
     "data": {
      "text/html": [
       "<div>\n",
       "<style scoped>\n",
       "    .dataframe tbody tr th:only-of-type {\n",
       "        vertical-align: middle;\n",
       "    }\n",
       "\n",
       "    .dataframe tbody tr th {\n",
       "        vertical-align: top;\n",
       "    }\n",
       "\n",
       "    .dataframe thead th {\n",
       "        text-align: right;\n",
       "    }\n",
       "</style>\n",
       "<table border=\"1\" class=\"dataframe\">\n",
       "  <thead>\n",
       "    <tr style=\"text-align: right;\">\n",
       "      <th></th>\n",
       "      <th>Date</th>\n",
       "      <th>Time</th>\n",
       "      <th>Author</th>\n",
       "      <th>Message</th>\n",
       "    </tr>\n",
       "  </thead>\n",
       "  <tbody>\n",
       "    <tr>\n",
       "      <th>0</th>\n",
       "      <td>5/7/22</td>\n",
       "      <td>7:01 PM</td>\n",
       "      <td>S+N Ayoade</td>\n",
       "      <td>Waiting for this message\\n</td>\n",
       "    </tr>\n",
       "    <tr>\n",
       "      <th>1</th>\n",
       "      <td>5/7/22</td>\n",
       "      <td>7:03 PM</td>\n",
       "      <td>+234 816 484 7452</td>\n",
       "      <td>Finally we have people that can answer any qu...</td>\n",
       "    </tr>\n",
       "    <tr>\n",
       "      <th>2</th>\n",
       "      <td>5/7/22</td>\n",
       "      <td>7:03 PM</td>\n",
       "      <td>+234 816 484 7452</td>\n",
       "      <td>I am moving over to the side of this that bri...</td>\n",
       "    </tr>\n",
       "    <tr>\n",
       "      <th>3</th>\n",
       "      <td>5/7/22</td>\n",
       "      <td>7:04 PM</td>\n",
       "      <td>+234 812 091 9501</td>\n",
       "      <td>No cap! 🔥\\n</td>\n",
       "    </tr>\n",
       "    <tr>\n",
       "      <th>4</th>\n",
       "      <td>5/7/22</td>\n",
       "      <td>7:04 PM</td>\n",
       "      <td>S+N Ayoade</td>\n",
       "      <td>Na to ask for tips before going for interview...</td>\n",
       "    </tr>\n",
       "    <tr>\n",
       "      <th>...</th>\n",
       "      <td>...</td>\n",
       "      <td>...</td>\n",
       "      <td>...</td>\n",
       "      <td>...</td>\n",
       "    </tr>\n",
       "    <tr>\n",
       "      <th>19579</th>\n",
       "      <td>8/3/22</td>\n",
       "      <td>11:14 PM</td>\n",
       "      <td>Joe</td>\n",
       "      <td>I'm not sure if you could pass \"skip this num...</td>\n",
       "    </tr>\n",
       "    <tr>\n",
       "      <th>19580</th>\n",
       "      <td>8/3/22</td>\n",
       "      <td>11:15 PM</td>\n",
       "      <td>Joe</td>\n",
       "      <td>I am assuming, date time author and message i...</td>\n",
       "    </tr>\n",
       "    <tr>\n",
       "      <th>19581</th>\n",
       "      <td>8/3/22</td>\n",
       "      <td>11:17 PM</td>\n",
       "      <td>S+N Ayoade</td>\n",
       "      <td>Yea\\n</td>\n",
       "    </tr>\n",
       "    <tr>\n",
       "      <th>19582</th>\n",
       "      <td>8/3/22</td>\n",
       "      <td>11:18 PM</td>\n",
       "      <td>S+N Ayoade</td>\n",
       "      <td>Should I share with you ?\\n\\n This your messa...</td>\n",
       "    </tr>\n",
       "    <tr>\n",
       "      <th>19583</th>\n",
       "      <td>8/3/22</td>\n",
       "      <td>11:28 PM</td>\n",
       "      <td>Joe</td>\n",
       "      <td>Yes boss\\n</td>\n",
       "    </tr>\n",
       "  </tbody>\n",
       "</table>\n",
       "<p>19584 rows × 4 columns</p>\n",
       "</div>"
      ],
      "text/plain": [
       "         Date       Time              Author  \\\n",
       "0      5/7/22   7:01 PM           S+N Ayoade   \n",
       "1      5/7/22   7:03 PM    +234 816 484 7452   \n",
       "2      5/7/22   7:03 PM    +234 816 484 7452   \n",
       "3      5/7/22   7:04 PM    +234 812 091 9501   \n",
       "4      5/7/22   7:04 PM           S+N Ayoade   \n",
       "...       ...        ...                 ...   \n",
       "19579  8/3/22  11:14 PM                  Joe   \n",
       "19580  8/3/22  11:15 PM                  Joe   \n",
       "19581  8/3/22  11:17 PM           S+N Ayoade   \n",
       "19582  8/3/22  11:18 PM           S+N Ayoade   \n",
       "19583  8/3/22  11:28 PM                  Joe   \n",
       "\n",
       "                                                 Message  \n",
       "0                             Waiting for this message\\n  \n",
       "1       Finally we have people that can answer any qu...  \n",
       "2       I am moving over to the side of this that bri...  \n",
       "3                                            No cap! 🔥\\n  \n",
       "4       Na to ask for tips before going for interview...  \n",
       "...                                                  ...  \n",
       "19579   I'm not sure if you could pass \"skip this num...  \n",
       "19580   I am assuming, date time author and message i...  \n",
       "19581                                              Yea\\n  \n",
       "19582   Should I share with you ?\\n\\n This your messa...  \n",
       "19583                                         Yes boss\\n  \n",
       "\n",
       "[19584 rows x 4 columns]"
      ]
     },
     "execution_count": 26,
     "metadata": {},
     "output_type": "execute_result"
    }
   ],
   "source": [
    "pd.DataFrame(data=processed,columns=['Date','Time','Author','Message'])"
   ]
  },
  {
   "cell_type": "code",
   "execution_count": 27,
   "metadata": {},
   "outputs": [],
   "source": [
    "df = pd.DataFrame(data=processed,columns=['Date','Time','Author','Message'])"
   ]
  },
  {
   "cell_type": "code",
   "execution_count": 28,
   "metadata": {},
   "outputs": [],
   "source": [
    "#saving to csv format\n",
    "df.to_csv(\"cleaned_data.csv\")"
   ]
  },
  {
   "cell_type": "code",
   "execution_count": null,
   "metadata": {},
   "outputs": [],
   "source": []
  }
 ],
 "metadata": {
  "kernelspec": {
   "display_name": "Python 3",
   "language": "python",
   "name": "python3"
  },
  "language_info": {
   "codemirror_mode": {
    "name": "ipython",
    "version": 3
   },
   "file_extension": ".py",
   "mimetype": "text/x-python",
   "name": "python",
   "nbconvert_exporter": "python",
   "pygments_lexer": "ipython3",
   "version": "3.7.6"
  }
 },
 "nbformat": 4,
 "nbformat_minor": 4
}
