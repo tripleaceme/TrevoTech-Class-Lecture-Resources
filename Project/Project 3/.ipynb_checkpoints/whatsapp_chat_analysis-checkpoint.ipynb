{
 "cells": [
  {
   "cell_type": "markdown",
   "metadata": {},
   "source": [
    "# Analysis on whatsapp chats , (without media)\n",
    "\n",
    "Replace the path of your exported chat."
   ]
  },
  {
   "cell_type": "markdown",
   "metadata": {},
   "source": [
    "## Loading the data and printing the total lines"
   ]
  },
  {
   "cell_type": "code",
   "execution_count": 2,
   "metadata": {},
   "outputs": [
    {
     "ename": "SyntaxError",
     "evalue": "(unicode error) 'unicodeescape' codec can't decode bytes in position 2-3: truncated \\UXXXXXXXX escape (<ipython-input-2-e67b53185d96>, line 1)",
     "output_type": "error",
     "traceback": [
      "\u001b[1;36m  File \u001b[1;32m\"<ipython-input-2-e67b53185d96>\"\u001b[1;36m, line \u001b[1;32m1\u001b[0m\n\u001b[1;33m    file_path=\"C:\\Users\\USER\\Documents\\GitHub\\TrevoTech-Class-Lecture-Resources\\Project\\Project 3/raw_chat.txt\"\u001b[0m\n\u001b[1;37m             ^\u001b[0m\n\u001b[1;31mSyntaxError\u001b[0m\u001b[1;31m:\u001b[0m (unicode error) 'unicodeescape' codec can't decode bytes in position 2-3: truncated \\UXXXXXXXX escape\n"
     ]
    }
   ],
   "source": [
    "file_path=\"C:/UsersUSER\\Documents\\GitHub\\TrevoTech-Class-Lecture-Resources\\Project\\Project 3/raw_chat.txt\"\n",
    "with open(file_path) as f:\n",
    "    lines = f.readlines()"
   ]
  },
  {
   "cell_type": "code",
   "execution_count": 2,
   "metadata": {},
   "outputs": [
    {
     "data": {
      "text/plain": [
       "2674"
      ]
     },
     "execution_count": 2,
     "metadata": {},
     "output_type": "execute_result"
    }
   ],
   "source": [
    "len(lines)"
   ]
  },
  {
   "cell_type": "markdown",
   "metadata": {},
   "source": [
    "## Just sample one of the data lines"
   ]
  },
  {
   "cell_type": "code",
   "execution_count": 3,
   "metadata": {},
   "outputs": [
    {
     "data": {
      "text/plain": [
       "'9/4/19, 16:44 - Anand EIE: Bro,???\\n'"
      ]
     },
     "execution_count": 3,
     "metadata": {},
     "output_type": "execute_result"
    }
   ],
   "source": [
    "lines[1]"
   ]
  },
  {
   "cell_type": "markdown",
   "metadata": {},
   "source": [
    "## Defining utility method for recoginze timestamp string\n",
    "\n",
    "You may need to replace the timestamp pattern , based on your whatsapp configuration at the time of export."
   ]
  },
  {
   "cell_type": "code",
   "execution_count": 4,
   "metadata": {},
   "outputs": [],
   "source": [
    "import re\n",
    "timestamp_pattern = '^\\d{1,2}\\/\\d{1,2}\\/\\d{2},\\ \\d{1,2}\\:\\d{1,2}'\n",
    "pattern_with_hyphen_and_space = timestamp_pattern+'\\ \\-'\n",
    "#To Ignore hyphen and space at end of timestamp (9/4/19, 16:44 - )\n",
    "\n",
    "def startsWithDate(s):\n",
    "    result = re.match(pattern_with_hyphen_and_space, s)\n",
    "    if result:\n",
    "        p=re.compile(timestamp_pattern)\n",
    "        matched=p.search(s)\n",
    "        return True,matched.group(0)\n",
    "    return False,\"\""
   ]
  },
  {
   "cell_type": "markdown",
   "metadata": {},
   "source": [
    "## Extracting messages, timestring, and add the lines that don't have timestamp to the previous message string\n",
    "\n",
    "So there is no surity that each line represents new message. If there is multiline messages in conversation ,they won't have timesatamp and the structure we see above . So they are continuation of previous message only , we are appending them"
   ]
  },
  {
   "cell_type": "code",
   "execution_count": 5,
   "metadata": {},
   "outputs": [],
   "source": [
    "date_times=[]\n",
    "messages=[]\n",
    "i=0\n",
    "while i < len(lines):\n",
    "    msg=lines[i]\n",
    "    is_start_with_date, datetime=startsWithDate(msg)\n",
    "    if is_start_with_date:\n",
    "        date_times.append(datetime)\n",
    "        messages.append(re.compile(pattern_with_hyphen_and_space).split(msg)[1])\n",
    "    else:\n",
    "        messages[-1]+=str(msg)\n",
    "    i=i+1"
   ]
  },
  {
   "cell_type": "code",
   "execution_count": 6,
   "metadata": {},
   "outputs": [
    {
     "data": {
      "text/plain": [
       "2593"
      ]
     },
     "execution_count": 6,
     "metadata": {},
     "output_type": "execute_result"
    }
   ],
   "source": [
    "len(messages)"
   ]
  },
  {
   "cell_type": "markdown",
   "metadata": {},
   "source": [
    "## Split sender name from message string and ignore the lines that don't have sender names.\n",
    "\n",
    "Even if there are timestamps, there are some possibilities that they aren't messages. Example, group name change, below lines at the start of convo,  \"Messages and calls are end-to-end encrypted...\" . These things are done by whatsapp itself , they are not messages. So we will ignore them."
   ]
  },
  {
   "cell_type": "code",
   "execution_count": 7,
   "metadata": {},
   "outputs": [],
   "source": [
    "j=0\n",
    "sender=[]\n",
    "real_messages=[]\n",
    "real_date_times=[]\n",
    "while j < len(messages):\n",
    "    msg=messages[j]\n",
    "    splitted=msg.split(\":\")\n",
    "    if len(splitted) > 1:\n",
    "        sender.append(splitted[0])\n",
    "        real_messages.append(splitted[1])\n",
    "        real_date_times.append(date_times[j])\n",
    "    j=j+1    "
   ]
  },
  {
   "cell_type": "code",
   "execution_count": 8,
   "metadata": {},
   "outputs": [
    {
     "data": {
      "text/plain": [
       "(2592, 2592, 2592)"
      ]
     },
     "execution_count": 8,
     "metadata": {},
     "output_type": "execute_result"
    }
   ],
   "source": [
    "len(real_messages),len(sender),len(real_date_times)"
   ]
  },
  {
   "cell_type": "markdown",
   "metadata": {},
   "source": [
    "## Converting to numpy array and fill the boring dates (days with no messages) with empty messages"
   ]
  },
  {
   "cell_type": "code",
   "execution_count": 9,
   "metadata": {},
   "outputs": [],
   "source": [
    "import numpy as np\n",
    "from datetime import datetime, timedelta\n",
    "array=[]\n",
    "prev_date=None\n",
    "for i in range(len(real_messages)):\n",
    "    current_date=datetime.strptime(real_date_times[i], \"%m/%d/%y, %H:%M\")\n",
    "    if i==0:\n",
    "        array.append([current_date,sender[i].strip(),real_messages[i].lower().strip(),current_date.date()])\n",
    "        prev_date=current_date\n",
    "    missed_days=(current_date-prev_date).days    \n",
    "    if missed_days == 0:    \n",
    "        array.append([current_date,sender[i].strip(),real_messages[i].lower().strip(),current_date.date()])\n",
    "    elif missed_days > 0:\n",
    "        for j in range(missed_days):\n",
    "            array.append([prev_date+timedelta(days=j+1),\"\",\"\",prev_date.date()+timedelta(days=j+1)])\n",
    "        array.append([current_date,sender[i].strip(),real_messages[i].lower().strip(),current_date.date()])\n",
    "    prev_date=current_date\n",
    "\n",
    "np_array=np.array(array)"
   ]
  },
  {
   "cell_type": "code",
   "execution_count": 10,
   "metadata": {},
   "outputs": [
    {
     "data": {
      "text/plain": [
       "12632"
      ]
     },
     "execution_count": 10,
     "metadata": {},
     "output_type": "execute_result"
    }
   ],
   "source": [
    "np_array.size"
   ]
  },
  {
   "cell_type": "markdown",
   "metadata": {},
   "source": [
    "## Constructing data frame "
   ]
  },
  {
   "cell_type": "code",
   "execution_count": 11,
   "metadata": {},
   "outputs": [],
   "source": [
    "column_values = ['date_time', 'sender','message','date']"
   ]
  },
  {
   "cell_type": "code",
   "execution_count": 12,
   "metadata": {},
   "outputs": [
    {
     "data": {
      "text/html": [
       "<div>\n",
       "<style scoped>\n",
       "    .dataframe tbody tr th:only-of-type {\n",
       "        vertical-align: middle;\n",
       "    }\n",
       "\n",
       "    .dataframe tbody tr th {\n",
       "        vertical-align: top;\n",
       "    }\n",
       "\n",
       "    .dataframe thead th {\n",
       "        text-align: right;\n",
       "    }\n",
       "</style>\n",
       "<table border=\"1\" class=\"dataframe\">\n",
       "  <thead>\n",
       "    <tr style=\"text-align: right;\">\n",
       "      <th></th>\n",
       "      <th>sender</th>\n",
       "      <th>message</th>\n",
       "      <th>date</th>\n",
       "    </tr>\n",
       "    <tr>\n",
       "      <th>date_time</th>\n",
       "      <th></th>\n",
       "      <th></th>\n",
       "      <th></th>\n",
       "    </tr>\n",
       "  </thead>\n",
       "  <tbody>\n",
       "    <tr>\n",
       "      <th>2019-09-04 16:44:00</th>\n",
       "      <td>Anand EIE</td>\n",
       "      <td>bro,???</td>\n",
       "      <td>2019-09-04</td>\n",
       "    </tr>\n",
       "    <tr>\n",
       "      <th>2019-09-04 16:44:00</th>\n",
       "      <td>Anand EIE</td>\n",
       "      <td>bro,???</td>\n",
       "      <td>2019-09-04</td>\n",
       "    </tr>\n",
       "    <tr>\n",
       "      <th>2019-09-04 16:44:00</th>\n",
       "      <td>Amuthan Mannan</td>\n",
       "      <td>sollunga</td>\n",
       "      <td>2019-09-04</td>\n",
       "    </tr>\n",
       "    <tr>\n",
       "      <th>2019-09-04 16:45:00</th>\n",
       "      <td>Anand EIE</td>\n",
       "      <td>where are you</td>\n",
       "      <td>2019-09-04</td>\n",
       "    </tr>\n",
       "    <tr>\n",
       "      <th>2019-09-04 16:45:00</th>\n",
       "      <td>Amuthan Mannan</td>\n",
       "      <td>dept da</td>\n",
       "      <td>2019-09-04</td>\n",
       "    </tr>\n",
       "    <tr>\n",
       "      <th>...</th>\n",
       "      <td>...</td>\n",
       "      <td>...</td>\n",
       "      <td>...</td>\n",
       "    </tr>\n",
       "    <tr>\n",
       "      <th>2021-08-10 10:31:00</th>\n",
       "      <td>Anand EIE</td>\n",
       "      <td>okay okay bruh</td>\n",
       "      <td>2021-08-10</td>\n",
       "    </tr>\n",
       "    <tr>\n",
       "      <th>2021-08-11 10:31:00</th>\n",
       "      <td></td>\n",
       "      <td></td>\n",
       "      <td>2021-08-11</td>\n",
       "    </tr>\n",
       "    <tr>\n",
       "      <th>2021-08-12 10:31:00</th>\n",
       "      <td></td>\n",
       "      <td></td>\n",
       "      <td>2021-08-12</td>\n",
       "    </tr>\n",
       "    <tr>\n",
       "      <th>2021-08-12 15:17:00</th>\n",
       "      <td>Amuthan Mannan</td>\n",
       "      <td>thala thalapathy😬😬</td>\n",
       "      <td>2021-08-12</td>\n",
       "    </tr>\n",
       "    <tr>\n",
       "      <th>2021-08-12 16:02:00</th>\n",
       "      <td>Anand EIE</td>\n",
       "      <td>ama bruh😁</td>\n",
       "      <td>2021-08-12</td>\n",
       "    </tr>\n",
       "  </tbody>\n",
       "</table>\n",
       "<p>3158 rows × 3 columns</p>\n",
       "</div>"
      ],
      "text/plain": [
       "                             sender             message        date\n",
       "date_time                                                          \n",
       "2019-09-04 16:44:00       Anand EIE             bro,???  2019-09-04\n",
       "2019-09-04 16:44:00       Anand EIE             bro,???  2019-09-04\n",
       "2019-09-04 16:44:00  Amuthan Mannan            sollunga  2019-09-04\n",
       "2019-09-04 16:45:00       Anand EIE       where are you  2019-09-04\n",
       "2019-09-04 16:45:00  Amuthan Mannan             dept da  2019-09-04\n",
       "...                             ...                 ...         ...\n",
       "2021-08-10 10:31:00       Anand EIE      okay okay bruh  2021-08-10\n",
       "2021-08-11 10:31:00                                      2021-08-11\n",
       "2021-08-12 10:31:00                                      2021-08-12\n",
       "2021-08-12 15:17:00  Amuthan Mannan  thala thalapathy😬😬  2021-08-12\n",
       "2021-08-12 16:02:00       Anand EIE           ama bruh😁  2021-08-12\n",
       "\n",
       "[3158 rows x 3 columns]"
      ]
     },
     "execution_count": 12,
     "metadata": {},
     "output_type": "execute_result"
    }
   ],
   "source": [
    "import pandas as pd\n",
    "df = pd.DataFrame(data = np_array,\n",
    "                  columns = column_values)\n",
    "df=df.set_index('date_time')\n",
    "df"
   ]
  },
  {
   "cell_type": "code",
   "execution_count": 13,
   "metadata": {},
   "outputs": [],
   "source": [
    "df['sender'].replace('', np.nan, inplace=True) # Filling empty cells with Nan"
   ]
  },
  {
   "cell_type": "code",
   "execution_count": 14,
   "metadata": {},
   "outputs": [
    {
     "data": {
      "text/html": [
       "<div>\n",
       "<style scoped>\n",
       "    .dataframe tbody tr th:only-of-type {\n",
       "        vertical-align: middle;\n",
       "    }\n",
       "\n",
       "    .dataframe tbody tr th {\n",
       "        vertical-align: top;\n",
       "    }\n",
       "\n",
       "    .dataframe thead th {\n",
       "        text-align: right;\n",
       "    }\n",
       "</style>\n",
       "<table border=\"1\" class=\"dataframe\">\n",
       "  <thead>\n",
       "    <tr style=\"text-align: right;\">\n",
       "      <th></th>\n",
       "      <th>sender</th>\n",
       "      <th>message</th>\n",
       "      <th>date</th>\n",
       "    </tr>\n",
       "    <tr>\n",
       "      <th>date_time</th>\n",
       "      <th></th>\n",
       "      <th></th>\n",
       "      <th></th>\n",
       "    </tr>\n",
       "  </thead>\n",
       "  <tbody>\n",
       "    <tr>\n",
       "      <th>2019-09-04 16:44:00</th>\n",
       "      <td>Anand EIE</td>\n",
       "      <td>bro,???</td>\n",
       "      <td>2019-09-04</td>\n",
       "    </tr>\n",
       "    <tr>\n",
       "      <th>2019-09-04 16:44:00</th>\n",
       "      <td>Anand EIE</td>\n",
       "      <td>bro,???</td>\n",
       "      <td>2019-09-04</td>\n",
       "    </tr>\n",
       "    <tr>\n",
       "      <th>2019-09-04 16:44:00</th>\n",
       "      <td>Amuthan Mannan</td>\n",
       "      <td>sollunga</td>\n",
       "      <td>2019-09-04</td>\n",
       "    </tr>\n",
       "    <tr>\n",
       "      <th>2019-09-04 16:45:00</th>\n",
       "      <td>Anand EIE</td>\n",
       "      <td>where are you</td>\n",
       "      <td>2019-09-04</td>\n",
       "    </tr>\n",
       "    <tr>\n",
       "      <th>2019-09-04 16:45:00</th>\n",
       "      <td>Amuthan Mannan</td>\n",
       "      <td>dept da</td>\n",
       "      <td>2019-09-04</td>\n",
       "    </tr>\n",
       "    <tr>\n",
       "      <th>...</th>\n",
       "      <td>...</td>\n",
       "      <td>...</td>\n",
       "      <td>...</td>\n",
       "    </tr>\n",
       "    <tr>\n",
       "      <th>2021-08-10 10:31:00</th>\n",
       "      <td>Anand EIE</td>\n",
       "      <td>okay okay bruh</td>\n",
       "      <td>2021-08-10</td>\n",
       "    </tr>\n",
       "    <tr>\n",
       "      <th>2021-08-11 10:31:00</th>\n",
       "      <td>NaN</td>\n",
       "      <td></td>\n",
       "      <td>2021-08-11</td>\n",
       "    </tr>\n",
       "    <tr>\n",
       "      <th>2021-08-12 10:31:00</th>\n",
       "      <td>NaN</td>\n",
       "      <td></td>\n",
       "      <td>2021-08-12</td>\n",
       "    </tr>\n",
       "    <tr>\n",
       "      <th>2021-08-12 15:17:00</th>\n",
       "      <td>Amuthan Mannan</td>\n",
       "      <td>thala thalapathy😬😬</td>\n",
       "      <td>2021-08-12</td>\n",
       "    </tr>\n",
       "    <tr>\n",
       "      <th>2021-08-12 16:02:00</th>\n",
       "      <td>Anand EIE</td>\n",
       "      <td>ama bruh😁</td>\n",
       "      <td>2021-08-12</td>\n",
       "    </tr>\n",
       "  </tbody>\n",
       "</table>\n",
       "<p>3158 rows × 3 columns</p>\n",
       "</div>"
      ],
      "text/plain": [
       "                             sender             message        date\n",
       "date_time                                                          \n",
       "2019-09-04 16:44:00       Anand EIE             bro,???  2019-09-04\n",
       "2019-09-04 16:44:00       Anand EIE             bro,???  2019-09-04\n",
       "2019-09-04 16:44:00  Amuthan Mannan            sollunga  2019-09-04\n",
       "2019-09-04 16:45:00       Anand EIE       where are you  2019-09-04\n",
       "2019-09-04 16:45:00  Amuthan Mannan             dept da  2019-09-04\n",
       "...                             ...                 ...         ...\n",
       "2021-08-10 10:31:00       Anand EIE      okay okay bruh  2021-08-10\n",
       "2021-08-11 10:31:00             NaN                      2021-08-11\n",
       "2021-08-12 10:31:00             NaN                      2021-08-12\n",
       "2021-08-12 15:17:00  Amuthan Mannan  thala thalapathy😬😬  2021-08-12\n",
       "2021-08-12 16:02:00       Anand EIE           ama bruh😁  2021-08-12\n",
       "\n",
       "[3158 rows x 3 columns]"
      ]
     },
     "execution_count": 14,
     "metadata": {},
     "output_type": "execute_result"
    }
   ],
   "source": [
    "df"
   ]
  },
  {
   "cell_type": "markdown",
   "metadata": {},
   "source": [
    "## Seeing the message count by name"
   ]
  },
  {
   "cell_type": "code",
   "execution_count": 15,
   "metadata": {},
   "outputs": [
    {
     "data": {
      "text/plain": [
       "sender\n",
       "Amuthan Mannan    1104\n",
       "Anand EIE         1489\n",
       "dtype: int64"
      ]
     },
     "execution_count": 15,
     "metadata": {},
     "output_type": "execute_result"
    }
   ],
   "source": [
    "df['sender'].replace('', np.nan, inplace=True)\n",
    "grouped_by_sender=df.groupby('sender').size()\n",
    "grouped_by_sender"
   ]
  },
  {
   "cell_type": "code",
   "execution_count": 16,
   "metadata": {},
   "outputs": [
    {
     "data": {
      "text/plain": [
       "<AxesSubplot:xlabel='sender'>"
      ]
     },
     "execution_count": 16,
     "metadata": {},
     "output_type": "execute_result"
    },
    {
     "data": {
      "image/png": "[encoded data removed]",
      "text/plain": [
       "<Figure size 432x288 with 1 Axes>"
      ]
     },
     "metadata": {
      "needs_background": "light"
     },
     "output_type": "display_data"
    }
   ],
   "source": [
    "pd.DataFrame(grouped_by_sender,columns=['messages']).plot.bar(color='c')"
   ]
  },
  {
   "cell_type": "markdown",
   "metadata": {},
   "source": [
    "## Plot the message count by date "
   ]
  },
  {
   "cell_type": "code",
   "execution_count": 17,
   "metadata": {},
   "outputs": [
    {
     "data": {
      "image/png": "[encoded data removed]",
      "text/plain": [
       "<Figure size 432x288 with 1 Axes>"
      ]
     },
     "metadata": {
      "needs_background": "light"
     },
     "output_type": "display_data"
    }
   ],
   "source": [
    "grouped_by_date_df=pd.DataFrame(df.groupby('date').size(),columns=['messages'])\n",
    "grouped_by_date_df['messages'].plot(kind='line',color='m')\n",
    "import matplotlib.pyplot as plt\n",
    "plt.rcParams['figure.figsize'] = [10, 5]"
   ]
  },
  {
   "cell_type": "markdown",
   "metadata": {},
   "source": [
    "# Message count graph of each sender"
   ]
  },
  {
   "cell_type": "code",
   "execution_count": 18,
   "metadata": {},
   "outputs": [
    {
     "data": {
      "text/plain": [
       "<AxesSubplot:xlabel='date'>"
      ]
     },
     "execution_count": 18,
     "metadata": {},
     "output_type": "execute_result"
    },
    {
     "data": {
      "image/png": "[encoded data removed]",
      "text/plain": [
       "<Figure size 720x360 with 1 Axes>"
      ]
     },
     "metadata": {
      "needs_background": "light"
     },
     "output_type": "display_data"
    }
   ],
   "source": [
    "grouped_by_sender_and_date_df=pd.DataFrame(df.groupby(['sender','date']).size(),columns=['messages'])\n",
    "grouped_by_sender_and_date_df=grouped_by_sender_and_date_df.reset_index()\n",
    "grouped_by_sender_and_date_df.pivot(index='date',columns='sender',values='messages').plot(kind='area',color=['k','y'])"
   ]
  },
  {
   "cell_type": "markdown",
   "metadata": {},
   "source": [
    "## Zooming more into dates\n",
    "\n",
    "Since the timestamps are index , we can directly go into index slicing"
   ]
  },
  {
   "cell_type": "code",
   "execution_count": 19,
   "metadata": {},
   "outputs": [
    {
     "data": {
      "text/plain": [
       "<AxesSubplot:xlabel='date'>"
      ]
     },
     "execution_count": 19,
     "metadata": {},
     "output_type": "execute_result"
    },
    {
     "data": {
      "image/png": "[encoded data removed]",
      "text/plain": [
       "<Figure size 720x360 with 1 Axes>"
      ]
     },
     "metadata": {
      "needs_background": "light"
     },
     "output_type": "display_data"
    }
   ],
   "source": [
    "grouped_by_date_df[pd.to_datetime('2021-01-01').date() : pd.to_datetime('2021-01-30').date()].plot(kind='line',color='c')"
   ]
  },
  {
   "cell_type": "markdown",
   "metadata": {},
   "source": [
    "## Utility to get list of words"
   ]
  },
  {
   "cell_type": "code",
   "execution_count": 20,
   "metadata": {},
   "outputs": [],
   "source": [
    "def get_list_of_words_from_coloumn(df,coloumn,words_to_ignore):\n",
    "    listt=\" \".join(df[coloumn]).replace(\"\\n\",\"\").replace(\"/ +\",\" \").split(' ')\n",
    "    words=[]\n",
    "    for item in listt:\n",
    "        if len(item) != 0 and not [y for y in words_to_ignore if item in y]:\n",
    "            words.append(item)\n",
    "    return words        "
   ]
  },
  {
   "cell_type": "markdown",
   "metadata": {},
   "source": [
    "## Extract words from message and sorting \n",
    "\n",
    "Omitted media files , will existed as \"<media/ omitted>\" and we can ignore those kind of whatsapp label messages.\n",
    "I don;t want to print all messages , :) just print some."
   ]
  },
  {
   "cell_type": "code",
   "execution_count": 21,
   "metadata": {},
   "outputs": [
    {
     "name": "stdout",
     "output_type": "stream",
     "text": [
      "[('da', 185), ('la', 101), ('https', 73), ('bro', 73), ('ok', 71), ('mm', 68), ('aama', 52), ('nu', 48), ('😂😂', 45), ('dei', 40), ('tha', 40), ('ama', 40), ('😂', 37), ('ena', 34), ('mmm', 32), ('ah', 31), ('antha', 29), ('thaan', 29), ('oru', 29), ('uh', 28), ('oo', 26), ('haan', 25), ('ithu', 24), ('nee', 23), ('intha', 23), ('illa', 22), ('nalla', 22), ('this', 21), ('iruku', 19), ('athu', 18)]\n"
     ]
    }
   ],
   "source": [
    "from collections import Counter\n",
    "counts = Counter(get_list_of_words_from_coloumn(df,'message',['omitted>','<media']))\n",
    "print(counts.most_common(30))"
   ]
  },
  {
   "cell_type": "markdown",
   "metadata": {},
   "source": [
    "## Same above task for individual senders\n",
    "\n",
    "Replace the sender names"
   ]
  },
  {
   "cell_type": "code",
   "execution_count": 22,
   "metadata": {},
   "outputs": [
    {
     "name": "stdout",
     "output_type": "stream",
     "text": [
      "[('la', 80), ('bro', 64), ('mm', 62), ('da', 58), ('https', 43), ('nu', 42), ('ok', 39), ('ama', 39), ('tha', 38), ('ena', 34), ('😂', 32), ('uh', 27), ('😂😂', 25), ('iruku', 19), ('oru', 18), ('hmm', 17), ('amutha', 17), ('ne', 17), ('🤣🤣', 17), ('ila', 16), ('nalla', 16), ('movie', 15), ('ithu', 14), ('😅', 13), ('lam', 13), ('this', 12), ('iruka', 12), ('antha', 12), ('macha', 11), ('call', 11)]\n"
     ]
    }
   ],
   "source": [
    "ananth_df = df[df.sender == 'Anand EIE']\n",
    "from collections import Counter\n",
    "counts = Counter(get_list_of_words_from_coloumn(ananth_df,'message',['omitted>','<media']))\n",
    "print(counts.most_common(30))"
   ]
  },
  {
   "cell_type": "code",
   "execution_count": 23,
   "metadata": {
    "scrolled": true
   },
   "outputs": [
    {
     "name": "stdout",
     "output_type": "stream",
     "text": [
      "[('da', 127), ('aama', 52), ('dei', 40), ('ok', 32), ('ah', 31), ('https', 30), ('thaan', 28), ('oo', 26), ('mmm', 24), ('la', 21), ('illa', 21), ('😂😂', 20), ('haan', 20), ('antha', 17), ('nee', 16), ('enna', 15), ('intha', 15), ('pa', 14), ('😂😂😂', 13), ('naa', 12), ('maathiri', 12), ('sari', 11), ('oru', 11), ('oh', 10), ('athu', 10), ('ipo', 10), ('time', 10), ('ennada', 10), ('ithu', 10), ('this', 9)]\n"
     ]
    }
   ],
   "source": [
    "am_df = df[df.sender == 'Amuthan Mannan']\n",
    "from collections import Counter\n",
    "counts = Counter(get_list_of_words_from_coloumn(am_df,'message',['omitted>','<media']))\n",
    "print(counts.most_common(30))"
   ]
  },
  {
   "cell_type": "markdown",
   "metadata": {},
   "source": [
    "## Sorting the dates based on message count to get peak days"
   ]
  },
  {
   "cell_type": "code",
   "execution_count": 25,
   "metadata": {},
   "outputs": [
    {
     "data": {
      "text/plain": [
       "<AxesSubplot:xlabel='date'>"
      ]
     },
     "execution_count": 25,
     "metadata": {},
     "output_type": "execute_result"
    },
    {
     "data": {
      "image/png": "[encoded data removed]",
      "text/plain": [
       "<Figure size 720x360 with 1 Axes>"
      ]
     },
     "metadata": {
      "needs_background": "light"
     },
     "output_type": "display_data"
    }
   ],
   "source": [
    "df_sorted_by_date=grouped_by_date_df.sort_values(by='messages',ascending=False)\n",
    "df_sorted_by_date.head(5).plot.bar()"
   ]
  },
  {
   "cell_type": "code",
   "execution_count": null,
   "metadata": {},
   "outputs": [],
   "source": []
  }
 ],
 "metadata": {
  "kernelspec": {
   "display_name": "Python 3",
   "language": "python",
   "name": "python3"
  },
  "language_info": {
   "codemirror_mode": {
    "name": "ipython",
    "version": 3
   },
   "file_extension": ".py",
   "mimetype": "text/x-python",
   "name": "python",
   "nbconvert_exporter": "python",
   "pygments_lexer": "ipython3",
   "version": "3.7.6"
  }
 },
 "nbformat": 4,
 "nbformat_minor": 5
}
